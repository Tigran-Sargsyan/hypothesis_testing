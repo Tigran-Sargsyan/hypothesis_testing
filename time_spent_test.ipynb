{
  "nbformat": 4,
  "nbformat_minor": 0,
  "metadata": {
    "colab": {
      "provenance": []
    },
    "kernelspec": {
      "name": "python3",
      "display_name": "Python 3"
    },
    "language_info": {
      "name": "python"
    }
  },
  "cells": [
    {
      "cell_type": "markdown",
      "source": [
        "# Hypothesis testing"
      ],
      "metadata": {
        "id": "aQDCq6WU4lrT"
      }
    },
    {
      "cell_type": "code",
      "execution_count": null,
      "metadata": {
        "id": "M8aoTTpFUcaS"
      },
      "outputs": [],
      "source": [
        "import numpy as np\n",
        "import pandas as pd"
      ]
    },
    {
      "cell_type": "markdown",
      "source": [
        "## Test description"
      ],
      "metadata": {
        "id": "YBu7q6-O55LD"
      }
    },
    {
      "cell_type": "markdown",
      "source": [
        "We take the seconds spent during the specific intervals in the blitz game (3 minutes per game) of chess. Since the time is measured in a single game, our data is paired. Using hypothesis testing we want to analyze on which interval does the player spend more time and give a hint on which part of his/her game the player has to work more thoroughly."
      ],
      "metadata": {
        "id": "JHvdy8qRiWD2"
      }
    },
    {
      "cell_type": "markdown",
      "source": [
        "## Entering data"
      ],
      "metadata": {
        "id": "VKdn5b3o5o7r"
      }
    },
    {
      "cell_type": "markdown",
      "source": [
        "first_8 variable holds the time spent on moves 15-22."
      ],
      "metadata": {
        "id": "OxXw2e636aZg"
      }
    },
    {
      "cell_type": "code",
      "source": [
        "first_8 = [42,79,11,69,53,62,30,33,79,42,42,70,23,17,52,66,29,54,33,\n",
        "     42,59,44,33,77,73,93,29,51,65,27,29,61,70,25,42,33,27,29]\n",
        "\n",
        "first_8 = np.array(first_8)"
      ],
      "metadata": {
        "id": "jwiJoD7NUmTZ"
      },
      "execution_count": null,
      "outputs": []
    },
    {
      "cell_type": "markdown",
      "source": [
        "second_8 variable holds the time spent on moves 23-30."
      ],
      "metadata": {
        "id": "qFmfqavH5dNS"
      }
    },
    {
      "cell_type": "code",
      "source": [
        "second_8 = [23,15,69,33,49,29,54,79,20,38,64,22,24,42,58,32,31,76,31,\n",
        "           30,54,53,58,42,33,38,14,57,41,16,41,35,22,57,29,21,33,30]\n",
        "second_8 = np.array(second_8)"
      ],
      "metadata": {
        "id": "1IXoX6Km5J08"
      },
      "execution_count": null,
      "outputs": []
    },
    {
      "cell_type": "markdown",
      "source": [
        "The time is given by seconds:\n",
        "\n",
        "42: 42 seconds\n",
        "\n",
        "79: 1 minute 19 seconds"
      ],
      "metadata": {
        "id": "Bg5Jcf5Z8kbx"
      }
    },
    {
      "cell_type": "markdown",
      "source": [
        "### Constructing a pandas dataframe"
      ],
      "metadata": {
        "id": "VYpG9Bio5xhd"
      }
    },
    {
      "cell_type": "markdown",
      "source": [
        "15_22 column contains the time spent on moves 15-22 in the game and the column 23_30 contains the time spent on moves 23_30 **in the same game**.\n",
        "Thus our data is paired and it gives us a lot of possibilites for doing statistical analysis and reaching useful conclusions!"
      ],
      "metadata": {
        "id": "0ASCsKqn8ojr"
      }
    },
    {
      "cell_type": "code",
      "source": [
        "time_dict = {'15_22':first_8,\n",
        "             '23_30':second_8}\n",
        "\n",
        "data = pd.DataFrame(time_dict)\n",
        "\n",
        "data['diff'] = data['15_22'] - data['23_30']\n",
        "data.head()"
      ],
      "metadata": {
        "colab": {
          "base_uri": "https://localhost:8080/",
          "height": 206
        },
        "id": "eA-HpfdrVufV",
        "outputId": "43cea1bd-f15b-45b2-e02b-4fec4908202c"
      },
      "execution_count": null,
      "outputs": [
        {
          "output_type": "execute_result",
          "data": {
            "text/plain": [
              "   15_22  23_30  diff\n",
              "0     42     23    19\n",
              "1     79     15    64\n",
              "2     11     69   -58\n",
              "3     69     33    36\n",
              "4     53     49     4"
            ],
            "text/html": [
              "\n",
              "  <div id=\"df-971b385e-b50c-4f68-85a3-a5defc705a34\">\n",
              "    <div class=\"colab-df-container\">\n",
              "      <div>\n",
              "<style scoped>\n",
              "    .dataframe tbody tr th:only-of-type {\n",
              "        vertical-align: middle;\n",
              "    }\n",
              "\n",
              "    .dataframe tbody tr th {\n",
              "        vertical-align: top;\n",
              "    }\n",
              "\n",
              "    .dataframe thead th {\n",
              "        text-align: right;\n",
              "    }\n",
              "</style>\n",
              "<table border=\"1\" class=\"dataframe\">\n",
              "  <thead>\n",
              "    <tr style=\"text-align: right;\">\n",
              "      <th></th>\n",
              "      <th>15_22</th>\n",
              "      <th>23_30</th>\n",
              "      <th>diff</th>\n",
              "    </tr>\n",
              "  </thead>\n",
              "  <tbody>\n",
              "    <tr>\n",
              "      <th>0</th>\n",
              "      <td>42</td>\n",
              "      <td>23</td>\n",
              "      <td>19</td>\n",
              "    </tr>\n",
              "    <tr>\n",
              "      <th>1</th>\n",
              "      <td>79</td>\n",
              "      <td>15</td>\n",
              "      <td>64</td>\n",
              "    </tr>\n",
              "    <tr>\n",
              "      <th>2</th>\n",
              "      <td>11</td>\n",
              "      <td>69</td>\n",
              "      <td>-58</td>\n",
              "    </tr>\n",
              "    <tr>\n",
              "      <th>3</th>\n",
              "      <td>69</td>\n",
              "      <td>33</td>\n",
              "      <td>36</td>\n",
              "    </tr>\n",
              "    <tr>\n",
              "      <th>4</th>\n",
              "      <td>53</td>\n",
              "      <td>49</td>\n",
              "      <td>4</td>\n",
              "    </tr>\n",
              "  </tbody>\n",
              "</table>\n",
              "</div>\n",
              "      <button class=\"colab-df-convert\" onclick=\"convertToInteractive('df-971b385e-b50c-4f68-85a3-a5defc705a34')\"\n",
              "              title=\"Convert this dataframe to an interactive table.\"\n",
              "              style=\"display:none;\">\n",
              "        \n",
              "  <svg xmlns=\"http://www.w3.org/2000/svg\" height=\"24px\"viewBox=\"0 0 24 24\"\n",
              "       width=\"24px\">\n",
              "    <path d=\"M0 0h24v24H0V0z\" fill=\"none\"/>\n",
              "    <path d=\"M18.56 5.44l.94 2.06.94-2.06 2.06-.94-2.06-.94-.94-2.06-.94 2.06-2.06.94zm-11 1L8.5 8.5l.94-2.06 2.06-.94-2.06-.94L8.5 2.5l-.94 2.06-2.06.94zm10 10l.94 2.06.94-2.06 2.06-.94-2.06-.94-.94-2.06-.94 2.06-2.06.94z\"/><path d=\"M17.41 7.96l-1.37-1.37c-.4-.4-.92-.59-1.43-.59-.52 0-1.04.2-1.43.59L10.3 9.45l-7.72 7.72c-.78.78-.78 2.05 0 2.83L4 21.41c.39.39.9.59 1.41.59.51 0 1.02-.2 1.41-.59l7.78-7.78 2.81-2.81c.8-.78.8-2.07 0-2.86zM5.41 20L4 18.59l7.72-7.72 1.47 1.35L5.41 20z\"/>\n",
              "  </svg>\n",
              "      </button>\n",
              "      \n",
              "  <style>\n",
              "    .colab-df-container {\n",
              "      display:flex;\n",
              "      flex-wrap:wrap;\n",
              "      gap: 12px;\n",
              "    }\n",
              "\n",
              "    .colab-df-convert {\n",
              "      background-color: #E8F0FE;\n",
              "      border: none;\n",
              "      border-radius: 50%;\n",
              "      cursor: pointer;\n",
              "      display: none;\n",
              "      fill: #1967D2;\n",
              "      height: 32px;\n",
              "      padding: 0 0 0 0;\n",
              "      width: 32px;\n",
              "    }\n",
              "\n",
              "    .colab-df-convert:hover {\n",
              "      background-color: #E2EBFA;\n",
              "      box-shadow: 0px 1px 2px rgba(60, 64, 67, 0.3), 0px 1px 3px 1px rgba(60, 64, 67, 0.15);\n",
              "      fill: #174EA6;\n",
              "    }\n",
              "\n",
              "    [theme=dark] .colab-df-convert {\n",
              "      background-color: #3B4455;\n",
              "      fill: #D2E3FC;\n",
              "    }\n",
              "\n",
              "    [theme=dark] .colab-df-convert:hover {\n",
              "      background-color: #434B5C;\n",
              "      box-shadow: 0px 1px 3px 1px rgba(0, 0, 0, 0.15);\n",
              "      filter: drop-shadow(0px 1px 2px rgba(0, 0, 0, 0.3));\n",
              "      fill: #FFFFFF;\n",
              "    }\n",
              "  </style>\n",
              "\n",
              "      <script>\n",
              "        const buttonEl =\n",
              "          document.querySelector('#df-971b385e-b50c-4f68-85a3-a5defc705a34 button.colab-df-convert');\n",
              "        buttonEl.style.display =\n",
              "          google.colab.kernel.accessAllowed ? 'block' : 'none';\n",
              "\n",
              "        async function convertToInteractive(key) {\n",
              "          const element = document.querySelector('#df-971b385e-b50c-4f68-85a3-a5defc705a34');\n",
              "          const dataTable =\n",
              "            await google.colab.kernel.invokeFunction('convertToInteractive',\n",
              "                                                     [key], {});\n",
              "          if (!dataTable) return;\n",
              "\n",
              "          const docLinkHtml = 'Like what you see? Visit the ' +\n",
              "            '<a target=\"_blank\" href=https://colab.research.google.com/notebooks/data_table.ipynb>data table notebook</a>'\n",
              "            + ' to learn more about interactive tables.';\n",
              "          element.innerHTML = '';\n",
              "          dataTable['output_type'] = 'display_data';\n",
              "          await google.colab.output.renderOutput(dataTable, element);\n",
              "          const docLink = document.createElement('div');\n",
              "          docLink.innerHTML = docLinkHtml;\n",
              "          element.appendChild(docLink);\n",
              "        }\n",
              "      </script>\n",
              "    </div>\n",
              "  </div>\n",
              "  "
            ]
          },
          "metadata": {},
          "execution_count": 5
        }
      ]
    },
    {
      "cell_type": "markdown",
      "source": [
        "## Formulating the null and alternative hypotheses"
      ],
      "metadata": {
        "id": "Tb_wYFrM6dH9"
      }
    },
    {
      "cell_type": "markdown",
      "source": [
        "The null hypothesis (H0) is: data['diff'].mean <= 0 \n",
        "\n",
        "The alternative hypothesis is: data['diff'].mean > 0"
      ],
      "metadata": {
        "id": "g5zEhSdUhXKi"
      }
    },
    {
      "cell_type": "markdown",
      "source": [
        "## Calculating necessary test statistics"
      ],
      "metadata": {
        "id": "_fXr7MzD665V"
      }
    },
    {
      "cell_type": "code",
      "source": [
        "pop_mean = 0\n",
        "sample_mean = np.mean(data['diff'])\n",
        "n = len(first_8)\n",
        "sample_sd = np.std(data['diff'])"
      ],
      "metadata": {
        "id": "PaW8gxPsZxh5"
      },
      "execution_count": null,
      "outputs": []
    },
    {
      "cell_type": "markdown",
      "source": [
        "We don't know population standard deviation, the number of data is 38 which is greather then 30, hence we cannot use the Z distribution, but we can use the student: t distribution to calculate p-value."
      ],
      "metadata": {
        "id": "dT5Wbnl1g6Ov"
      }
    },
    {
      "cell_type": "markdown",
      "source": [
        "## Conducting t test"
      ],
      "metadata": {
        "id": "rdv4LmqD8tZ1"
      }
    },
    {
      "cell_type": "code",
      "source": [
        "t = (sample_mean - pop_mean)/(sample_sd/np.sqrt(n))\n",
        "df = n - 2       # df - degrees of freedom\n",
        "alpha = 0.05     # the maximum probability of type 1 error\n",
        "print(t)"
      ],
      "metadata": {
        "id": "OWef1c6Sg4b9",
        "colab": {
          "base_uri": "https://localhost:8080/"
        },
        "outputId": "d3d9f7a2-ff90-4ab5-8898-68572ccf40f6"
      },
      "execution_count": null,
      "outputs": [
        {
          "output_type": "stream",
          "name": "stdout",
          "text": [
            "1.707280546807981\n"
          ]
        }
      ]
    },
    {
      "cell_type": "code",
      "source": [
        "from scipy import stats\n",
        "#Student t distribution, n=38,  1-tail\n",
        "#deg_freedom = n - 2 = 38 - 2 = 36\n",
        "critical_t = stats.t.ppf(1-alpha,df)   "
      ],
      "metadata": {
        "id": "znO7JxL_cNQw"
      },
      "execution_count": null,
      "outputs": []
    },
    {
      "cell_type": "code",
      "source": [
        "if t > critical_t:\n",
        "    print('We reject the null hypothesis which is: pop_mean <= 0')\n",
        "    print('Hence we say that the mean time spent on moves 15-22 is greater\\\n",
        " than the mean time spent on moves 23-30.')\n",
        "else:\n",
        "    print('We cannot reject the null hypothesis which is: pop_mean <= 0')\n",
        "    print('Thus we cannot say that the mean time spent on moves 15-22 is greater\\\n",
        " than the mean time spent on moves 23-30.')"
      ],
      "metadata": {
        "colab": {
          "base_uri": "https://localhost:8080/"
        },
        "id": "U-uy0HMMfKOV",
        "outputId": "d84a78e1-5adb-4462-bf20-cfd7b12ec7e8"
      },
      "execution_count": null,
      "outputs": [
        {
          "output_type": "stream",
          "name": "stdout",
          "text": [
            "We reject the null hypothesis which is: pop_mean <= 0\n",
            "Hence we say that the mean time spent on moves 15-22 is greater than the mean time spent on moves 23-30.\n",
            "\n",
            "We can recommend a training program according to the interval on which the player spends more time\n"
          ]
        }
      ]
    },
    {
      "cell_type": "markdown",
      "source": [
        "## Conclusions and recommendations"
      ],
      "metadata": {
        "id": "a8yS396x7mLS"
      }
    },
    {
      "cell_type": "markdown",
      "source": [
        "We can recommend a training program according to the interval\n",
        "on which the player spends more time. If he spends more time during the moves 15-22 then he probably should take a look on his early middle-game skills or should try to play faster in that part and if he spends more time during the moves 23-30, he has to study more of late middle-games."
      ],
      "metadata": {
        "id": "fuIpKYvS7liz"
      }
    }
  ]
}